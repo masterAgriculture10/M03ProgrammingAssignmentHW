{
 "cells": [
  {
   "cell_type": "code",
   "execution_count": null,
   "metadata": {},
   "outputs": [],
   "source": [
    "#7.4 Make a list called things with these three strings as elements: \"mozzarella\", \"cinderella\", \"salmonella\".\n",
    "\tthings = ['mozzarella', 'cinderalla', 'salmonella']"
   ]
  },
  {
   "cell_type": "code",
   "execution_count": null,
   "metadata": {},
   "outputs": [],
   "source": [
    "#7.5 Capitalize the element in things that refers to a person and then print the list. Did it change the element in the list?\n",
    "\tthings = ['mozzarella', 'cinderalla', 'salmonella']\n",
    "\tthings[1] = 'Cinderalla'\n",
    "\tprint(\"things\")"
   ]
  },
  {
   "cell_type": "code",
   "execution_count": null,
   "metadata": {},
   "outputs": [],
   "source": [
    "#7.6 Make the cheesy element of things all uppercase and then print the list.\n",
    "\tthings = ['mozzarella', 'cinderalla', 'salmonella']\n",
    "\tthings[0] = 'MOZZARELLA'\n",
    "\tprint(\"things\")\n",
    "\t\n"
   ]
  },
  {
   "cell_type": "code",
   "execution_count": null,
   "metadata": {},
   "outputs": [],
   "source": [
    "#7.7 Delete the disease element from things, collect your Nobel Prize, and print the list.\n",
    "\tthings = ['mozzarella', 'cinderalla', 'salmonella']\n",
    "\tdel things [-1]\n",
    "\tprint(\"things\")\n",
    "\t"
   ]
  },
  {
   "cell_type": "code",
   "execution_count": null,
   "metadata": {},
   "outputs": [],
   "source": [
    "#9.1 Define a function called good() that returns the following list: ['Harry', 'Ron', 'Hermione'].\n",
    "\tdef good ():\n",
    "\t    return['Harry', 'Ron', 'Hermione']\n"
   ]
  },
  {
   "cell_type": "code",
   "execution_count": null,
   "metadata": {},
   "outputs": [],
   "source": [
    "#9.2 Define a generator function called get_odds() that returns the odd numbers from range(10). Use a for loop to find and print the third value returned.\n",
    "\tdef get_odds():\n",
    "\t    for number in range(1, 10, 2):\n",
    "\t\t    return number\n",
    "\tcount = 1\n",
    "\tfor number in get_odds():\n",
    "\t    if count == 3:\n",
    "\t\t    print(\"The third odd number is\", number)\n",
    "\t        break\n",
    "\t    count += 1"
   ]
  }
 ],
 "metadata": {
  "language_info": {
   "name": "python"
  },
  "orig_nbformat": 4
 },
 "nbformat": 4,
 "nbformat_minor": 2
}
